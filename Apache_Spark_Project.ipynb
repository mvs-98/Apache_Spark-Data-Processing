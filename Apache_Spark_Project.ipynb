{
  "cells": [
    {
      "cell_type": "markdown",
      "metadata": {
        "application/vnd.databricks.v1+cell": {
          "cellMetadata": {},
          "inputWidgets": {},
          "nuid": "7601bf0e-75f1-4b25-97f1-54e1d855bd12",
          "showTitle": false,
          "title": ""
        },
        "id": "StdZJvllbr1g"
      },
      "source": [
        "# Apache Spark Project\n",
        "\n",
        "# Name: Mehul Vikas Sankhe\n"
      ]
    },
    {
      "cell_type": "markdown",
      "metadata": {
        "application/vnd.databricks.v1+cell": {
          "cellMetadata": {},
          "inputWidgets": {},
          "nuid": "a451fe1b-c36e-4226-a708-a903f5844f7d",
          "showTitle": false,
          "title": ""
        },
        "id": "W8lffo0Jbr1h"
      },
      "source": [
        "## Project overview\n",
        "\n",
        "### Inputs\n",
        "\n",
        "- **NYC Taxi Trips dataset** - list of recorded taxi trips, each with several characteristics, namely: distance, number of passengers, origin zone, destination zone and trip cost (total amount charged to customer).\n",
        "- **NYC Zones dataset** - list of zones wherein trips can originate/terminate.\n",
        "\n",
        "### Tasks\n",
        "\n",
        "1. Data cleaning\n",
        "  1. Remove \"0 distance\" and 'no passengers' records.\n",
        "  2. Remove outlier records.\n",
        "2. Add new columns\n",
        "  1. Join with zones dataset\n",
        "  2. Compute the unit profitability of each trip\n",
        "3. Zone summarisation and ranking\n",
        "  1. Summarise trip data per zone\n",
        "  2. Obtain the top 10 ranks according to:\n",
        "    1. The total trip volume\n",
        "    2. Their average profitabilitiy\n",
        "    3. The total passenger volume\n",
        "4. Record the total and task-specific execution times for each dataset size and format.\n",
        "\n",
        "### How to\n",
        "\n",
        "###### Code structure and implementation\n",
        "\n",
        "- You must implement your solution to each task in the provided function code skeleton.\n",
        "- The task-specific functions are combined together to form the full pipeline code, executed last.\n",
        "\n",
        "\n",
        "###### Development\n",
        "\n",
        "- Develop an initial working solution for the 'S' dataset and only then optimise it for larger dataset sizes.\n",
        "- To perform vectorised operations on a DataFrame:\n",
        "  - use the API docs to look for existing vectorised functions in: https://spark.apache.org/docs/latest/api/python/reference/pyspark.sql/functions.html\n",
        "  - actions to get around the lazy execution of spark:\n",
        "  https://spark.apache.org/docs/latest/rdd-programming-guide.html#actions\n",
        "  - if a customised function is required (e.g. to add a new column based on a linear combination of other columns), implement your own User Defined Function (UDF). See:  https://spark.apache.org/docs/latest/sql-ref-functions-udf-scalar.html\n",
        "- Use only the `pyspark.sql` API - documentation link below - (note that searching through the docs returns results from the `pyspark.sql` API together with the `pyspark.pandas` API):\n",
        "  - https://spark.apache.org/docs/3.2.0/api/python/reference/pyspark.sql.html\n",
        "- Periodically download your notebook to your computer as backup and safety measure against accidental file deletion.\n",
        "\n",
        "###### Execution time measurement\n",
        "\n",
        "- Execution time is calculated and returned by the Spark Engine and shown in the output region of the cell.\n",
        "- To measure the execution time of a task you must perform a `collect` or similar operation (e.g. `take`) on the returned DataFrame."
      ]
    },
    {
      "cell_type": "markdown",
      "metadata": {
        "application/vnd.databricks.v1+cell": {
          "cellMetadata": {},
          "inputWidgets": {},
          "nuid": "d26c1c73-cac4-4937-8201-4c15cc6be296",
          "showTitle": false,
          "title": ""
        },
        "id": "RC3Q9q-Bbr1i"
      },
      "source": [
        "## Task 0 - Read data\n",
        "\n",
        "The code below is ready to run. Do not modify this code. It does the following:\n",
        "\n",
        "- Reads the 'zones' dataset into variable 'zone_names'\n",
        "- Defines the `init_trips` function that allows you to read the 'trips' dataset (from the DBFS FileStore) given the dataset size ('S' to 'XXL') and format ('parquet' or 'delta') as function arguments\n",
        "- Defines the `pipeline` function, called in Task 4 to measure the execution time of the entire data processing pipeline\n",
        "- Shows you how to call the `init_trips` function and display dataset characteristics (number of rows, schema)"
      ]
    },
    {
      "cell_type": "code",
      "execution_count": null,
      "metadata": {
        "application/vnd.databricks.v1+cell": {
          "cellMetadata": {
            "byteLimit": 2048000,
            "rowLimit": 10000
          },
          "inputWidgets": {},
          "nuid": "57aaebcc-fc2a-4d86-a58e-c1489efeadaf",
          "showTitle": false,
          "title": ""
        },
        "id": "mU8Ntmbvbr1i"
      },
      "outputs": [],
      "source": [
        "## global imports\n",
        "import pyspark.sql as ps\n",
        "import pyspark.sql.functions as pf\n",
        "import pandas as pd\n",
        "\n",
        "# Load zone names dataset - (much faster to read small file from git than dbfs)\n",
        "zones_file_url = 'https://raw.githubusercontent.com/mutazb999/CSC8101-lab-and-coursework/main/02-assignment-spark/taxi_zone_names.csv'\n",
        "zone_names = spark.createDataFrame(pd.read_csv(zones_file_url))\n",
        "\n",
        "# Function to load trips dataset by selected dataset size\n",
        "def init_trips(size = 'S', data_format = \"parquet\", taxi_folder = \"/FileStore/tables/taxi\"):\n",
        "\n",
        "    files = {\n",
        "        'S'  : ['2021_07'],\n",
        "        'M'  : ['2021'],\n",
        "        'L'  : ['2020_21'],\n",
        "        'XL' : ['1_6_2019', '7_12_2019'],\n",
        "        'XXL': ['1_6_2019', '7_12_2019', '2020_21']\n",
        "    }\n",
        "\n",
        "    # validate input dataset size\n",
        "    if size not in files.keys():\n",
        "        print(\"Invalid input dataset size. Must be one of {}\".format(list(files.keys())))\n",
        "        return None\n",
        "\n",
        "    if data_format == \"parquet\":\n",
        "        filenames = list(map(lambda s: f'{taxi_folder}/parquet/tripdata_{s}.parquet', files[size]))\n",
        "        trips_df = spark.read.parquet(filenames[0])\n",
        "\n",
        "        for name in filenames[1:]:\n",
        "            trips_df = trips_df.union(spark.read.parquet(name))\n",
        "\n",
        "    elif data_format == \"delta\":\n",
        "        filenames = f\"{taxi_folder}/delta/taxi-{size}-delta/\"\n",
        "        trips_df = spark.read.format(\"delta\").load(filenames)\n",
        "\n",
        "    else:\n",
        "        print(\"Invalid data format. Must be one of {}\".format(['parquet', 'delta']))\n",
        "        return None\n",
        "\n",
        "    print(\n",
        "    \"\"\"\n",
        "    Trips dataset loaded!\n",
        "    ---\n",
        "      Size: {s}\n",
        "      Format: {f}\n",
        "      Tables loaded: {ds}\n",
        "      Number of trips (dataset rows): {tc:,}\n",
        "    \"\"\".format(s = size, f = data_format, ds = filenames, tc = trips_df.count()))\n",
        "\n",
        "    return trips_df\n",
        "\n",
        "# helper function to print dataset row count\n",
        "def print_count(df):\n",
        "    print(\"Row count: {t:,}\".format(t = df.count()))\n",
        "\n",
        "def pipeline(trips_df, with_task_12 = False, zones_df = zone_names):\n",
        "    # Do not edit\n",
        "    #---\n",
        "\n",
        "    ## Task 1.1\n",
        "    _trips_11 = t11_remove_zeros(trips_df)\n",
        "\n",
        "    ## Task 1.2\n",
        "    if with_task_12:\n",
        "        _trips_12 = t12_remove_outliers(_trips_11)\n",
        "    else:\n",
        "        _trips_12 = _trips_11\n",
        "\n",
        "    ## Task 2.1\n",
        "    _trips_21 = t21_join_zones(_trips_12, zones_df = zone_names)\n",
        "\n",
        "    ## Task 2.2\n",
        "    _trips_22 = t22_calc_profit(_trips_21)\n",
        "\n",
        "    ## Task 3.1\n",
        "    _graph = t31_summarise_trips(_trips_22)\n",
        "\n",
        "    ## Task 3.2\n",
        "    _zones = t32_summarise_zones_pairs(_graph)\n",
        "\n",
        "    _top10_trips     = t32_top10_trips(_zones)\n",
        "    _top10_profit    = t32_top10_profit(_zones)\n",
        "    _top10_passenger = t32_top10_passenger(_zones)\n",
        "\n",
        "    return([_top10_trips, _top10_profit, _top10_passenger])"
      ]
    },
    {
      "cell_type": "code",
      "execution_count": null,
      "metadata": {
        "application/vnd.databricks.v1+cell": {
          "cellMetadata": {
            "byteLimit": 2048000,
            "rowLimit": 10000
          },
          "inputWidgets": {},
          "nuid": "490ab841-fd73-4466-a6e7-5121395deca9",
          "showTitle": false,
          "title": ""
        },
        "id": "KlsG5tV-br1j",
        "outputId": "84f0132f-3e3c-48aa-9720-ef159ccd5c8e"
      },
      "outputs": [
        {
          "output_type": "stream",
          "name": "stdout",
          "text": [
            "\n    Trips dataset loaded!\n    ---\n      Size: S\n      Format: parquet\n      Tables loaded: ['/FileStore/tables/taxi/parquet/tripdata_2021_07.parquet']\n      Number of trips (dataset rows): 2,898,033\n    \n"
          ]
        }
      ],
      "source": [
        "# CHANGE the value of argument 'size' to record the pipeline execution times for increasing dataset sizes\n",
        "SIZE = 'S'\n",
        "DATA_FORMAT = 'parquet'\n",
        "\n",
        "# Load trips dataset\n",
        "trips = init_trips(SIZE, DATA_FORMAT)\n",
        "\n",
        "# uncomment line only for small datasets\n",
        "# trips.take(1)"
      ]
    },
    {
      "cell_type": "code",
      "execution_count": null,
      "metadata": {
        "application/vnd.databricks.v1+cell": {
          "cellMetadata": {
            "byteLimit": 2048000,
            "rowLimit": 10000
          },
          "inputWidgets": {},
          "nuid": "92da0d12-33a0-4df0-b1d2-607ebb65d948",
          "showTitle": false,
          "title": ""
        },
        "id": "t_1A-qhrbr1j",
        "outputId": "771faf3c-6757-489c-bd6d-4cb2ebf15194"
      },
      "outputs": [
        {
          "output_type": "stream",
          "name": "stdout",
          "text": [
            "Row count: 2,898,033\n"
          ]
        }
      ],
      "source": [
        "print_count(trips)"
      ]
    },
    {
      "cell_type": "code",
      "execution_count": null,
      "metadata": {
        "application/vnd.databricks.v1+cell": {
          "cellMetadata": {
            "byteLimit": 2048000,
            "rowLimit": 10000
          },
          "inputWidgets": {},
          "nuid": "490e67f7-4457-4bd5-b89a-a6d24c5645d5",
          "showTitle": false,
          "title": ""
        },
        "id": "e0ic5Bf5br1k",
        "outputId": "844b282f-3d44-468d-a408-e56df6f50bf1"
      },
      "outputs": [
        {
          "output_type": "stream",
          "name": "stdout",
          "text": [
            "root\n |-- index: long (nullable = true)\n |-- VendorID: double (nullable = true)\n |-- tpep_pickup_datetime: string (nullable = true)\n |-- tpep_dropoff_datetime: string (nullable = true)\n |-- passenger_count: double (nullable = true)\n |-- trip_distance: double (nullable = true)\n |-- RatecodeID: double (nullable = true)\n |-- store_and_fwd_flag: string (nullable = true)\n |-- PULocationID: long (nullable = true)\n |-- DOLocationID: long (nullable = true)\n |-- payment_type: double (nullable = true)\n |-- fare_amount: double (nullable = true)\n |-- extra: double (nullable = true)\n |-- mta_tax: double (nullable = true)\n |-- tip_amount: double (nullable = true)\n |-- tolls_amount: double (nullable = true)\n |-- improvement_surcharge: double (nullable = true)\n |-- total_amount: double (nullable = true)\n |-- congestion_surcharge: double (nullable = true)\n |-- cab_type: string (nullable = true)\n |-- lpep_pickup_datetime: string (nullable = true)\n |-- lpep_dropoff_datetime: string (nullable = true)\n |-- ehail_fee: double (nullable = true)\n |-- trip_type: double (nullable = true)\n\n"
          ]
        }
      ],
      "source": [
        "# dataset schemas\n",
        "trips.printSchema()"
      ]
    },
    {
      "cell_type": "code",
      "execution_count": null,
      "metadata": {
        "application/vnd.databricks.v1+cell": {
          "cellMetadata": {
            "byteLimit": 2048000,
            "rowLimit": 10000
          },
          "inputWidgets": {},
          "nuid": "5e2ab160-b9b8-4c4a-bb70-fc3197bae230",
          "showTitle": false,
          "title": ""
        },
        "id": "BfAj7STxbr1k",
        "outputId": "e63bfe87-7e19-4cbc-f824-d2a821d4c622"
      },
      "outputs": [
        {
          "output_type": "display_data",
          "data": {
            "text/html": [
              "<style scoped>\n",
              "  .table-result-container {\n",
              "    max-height: 300px;\n",
              "    overflow: auto;\n",
              "  }\n",
              "  table, th, td {\n",
              "    border: 1px solid black;\n",
              "    border-collapse: collapse;\n",
              "  }\n",
              "  th, td {\n",
              "    padding: 5px;\n",
              "  }\n",
              "  th {\n",
              "    text-align: left;\n",
              "  }\n",
              "</style><div class='table-result-container'><table class='table-result'><thead style='background-color: white'><tr><th>PULocationID</th><th>DOLocationID</th><th>trip_distance</th><th>passenger_count</th><th>total_amount</th></tr></thead><tbody><tr><td>90</td><td>68</td><td>0.8</td><td>1.0</td><td>8.8</td></tr><tr><td>113</td><td>90</td><td>0.9</td><td>1.0</td><td>8.8</td></tr><tr><td>88</td><td>232</td><td>2.8</td><td>1.0</td><td>13.8</td></tr><tr><td>79</td><td>249</td><td>1.4</td><td>1.0</td><td>12.3</td></tr><tr><td>142</td><td>238</td><td>2.0</td><td>0.0</td><td>12.3</td></tr></tbody></table></div>"
            ]
          },
          "metadata": {
            "application/vnd.databricks.v1+output": {
              "addedWidgets": {},
              "aggData": [],
              "aggError": "",
              "aggOverflow": false,
              "aggSchema": [],
              "aggSeriesLimitReached": false,
              "aggType": "",
              "arguments": {},
              "columnCustomDisplayInfos": {},
              "data": [
                [
                  90,
                  68,
                  0.8,
                  1,
                  8.8
                ],
                [
                  113,
                  90,
                  0.9,
                  1,
                  8.8
                ],
                [
                  88,
                  232,
                  2.8,
                  1,
                  13.8
                ],
                [
                  79,
                  249,
                  1.4,
                  1,
                  12.3
                ],
                [
                  142,
                  238,
                  2,
                  0,
                  12.3
                ]
              ],
              "datasetInfos": [],
              "dbfsResultPath": null,
              "isJsonSchema": true,
              "metadata": {},
              "overflow": false,
              "plotOptions": {
                "customPlotOptions": {},
                "displayType": "table",
                "pivotAggregation": null,
                "pivotColumns": null,
                "xColumns": null,
                "yColumns": null
              },
              "removedWidgets": [],
              "schema": [
                {
                  "metadata": "{}",
                  "name": "PULocationID",
                  "type": "\"long\""
                },
                {
                  "metadata": "{}",
                  "name": "DOLocationID",
                  "type": "\"long\""
                },
                {
                  "metadata": "{}",
                  "name": "trip_distance",
                  "type": "\"double\""
                },
                {
                  "metadata": "{}",
                  "name": "passenger_count",
                  "type": "\"double\""
                },
                {
                  "metadata": "{}",
                  "name": "total_amount",
                  "type": "\"double\""
                }
              ],
              "type": "table"
            }
          }
        }
      ],
      "source": [
        "display(trips[['PULocationID', 'DOLocationID', 'trip_distance', 'passenger_count', 'total_amount']].take(5))"
      ]
    },
    {
      "cell_type": "code",
      "execution_count": null,
      "metadata": {
        "application/vnd.databricks.v1+cell": {
          "cellMetadata": {
            "byteLimit": 2048000,
            "rowLimit": 10000
          },
          "inputWidgets": {},
          "nuid": "eee4451c-b49a-42a6-b87e-81aad4144cf1",
          "showTitle": false,
          "title": ""
        },
        "id": "kPzDfJb6br1k",
        "outputId": "112cc71a-9fdf-4205-c496-d61c38e4090b"
      },
      "outputs": [
        {
          "output_type": "stream",
          "name": "stdout",
          "text": [
            "root\n |-- LocationID: long (nullable = true)\n |-- Borough: string (nullable = true)\n |-- Zone: string (nullable = true)\n |-- service_zone: string (nullable = true)\n\n"
          ]
        }
      ],
      "source": [
        "zone_names.printSchema()"
      ]
    },
    {
      "cell_type": "code",
      "execution_count": null,
      "metadata": {
        "application/vnd.databricks.v1+cell": {
          "cellMetadata": {
            "byteLimit": 2048000,
            "rowLimit": 10000
          },
          "inputWidgets": {},
          "nuid": "8a1ed0a0-0621-471d-8332-d47b52f71817",
          "showTitle": false,
          "title": ""
        },
        "id": "C63wOcfrbr1k",
        "outputId": "556f3b06-f70e-4f3c-f7f9-b27bd9aa5317"
      },
      "outputs": [
        {
          "output_type": "display_data",
          "data": {
            "text/html": [
              "<style scoped>\n",
              "  .table-result-container {\n",
              "    max-height: 300px;\n",
              "    overflow: auto;\n",
              "  }\n",
              "  table, th, td {\n",
              "    border: 1px solid black;\n",
              "    border-collapse: collapse;\n",
              "  }\n",
              "  th, td {\n",
              "    padding: 5px;\n",
              "  }\n",
              "  th {\n",
              "    text-align: left;\n",
              "  }\n",
              "</style><div class='table-result-container'><table class='table-result'><thead style='background-color: white'><tr><th>LocationID</th><th>Borough</th><th>Zone</th><th>service_zone</th></tr></thead><tbody><tr><td>1</td><td>EWR</td><td>Newark Airport</td><td>EWR</td></tr><tr><td>2</td><td>Queens</td><td>Jamaica Bay</td><td>Boro Zone</td></tr><tr><td>3</td><td>Bronx</td><td>Allerton/Pelham Gardens</td><td>Boro Zone</td></tr><tr><td>4</td><td>Manhattan</td><td>Alphabet City</td><td>Yellow Zone</td></tr><tr><td>5</td><td>Staten Island</td><td>Arden Heights</td><td>Boro Zone</td></tr></tbody></table></div>"
            ]
          },
          "metadata": {
            "application/vnd.databricks.v1+output": {
              "addedWidgets": {},
              "aggData": [],
              "aggError": "",
              "aggOverflow": false,
              "aggSchema": [],
              "aggSeriesLimitReached": false,
              "aggType": "",
              "arguments": {},
              "columnCustomDisplayInfos": {},
              "data": [
                [
                  1,
                  "EWR",
                  "Newark Airport",
                  "EWR"
                ],
                [
                  2,
                  "Queens",
                  "Jamaica Bay",
                  "Boro Zone"
                ],
                [
                  3,
                  "Bronx",
                  "Allerton/Pelham Gardens",
                  "Boro Zone"
                ],
                [
                  4,
                  "Manhattan",
                  "Alphabet City",
                  "Yellow Zone"
                ],
                [
                  5,
                  "Staten Island",
                  "Arden Heights",
                  "Boro Zone"
                ]
              ],
              "datasetInfos": [],
              "dbfsResultPath": null,
              "isJsonSchema": true,
              "metadata": {},
              "overflow": false,
              "plotOptions": {
                "customPlotOptions": {},
                "displayType": "table",
                "pivotAggregation": null,
                "pivotColumns": null,
                "xColumns": null,
                "yColumns": null
              },
              "removedWidgets": [],
              "schema": [
                {
                  "metadata": "{}",
                  "name": "LocationID",
                  "type": "\"long\""
                },
                {
                  "metadata": "{}",
                  "name": "Borough",
                  "type": "\"string\""
                },
                {
                  "metadata": "{}",
                  "name": "Zone",
                  "type": "\"string\""
                },
                {
                  "metadata": "{}",
                  "name": "service_zone",
                  "type": "\"string\""
                }
              ],
              "type": "table"
            }
          }
        }
      ],
      "source": [
        "display(zone_names.take(5))"
      ]
    },
    {
      "cell_type": "markdown",
      "metadata": {
        "application/vnd.databricks.v1+cell": {
          "cellMetadata": {},
          "inputWidgets": {},
          "nuid": "99294dd5-92b7-4e50-9623-d00d82da993b",
          "showTitle": false,
          "title": ""
        },
        "id": "tgbaZanKbr1l"
      },
      "source": [
        "## Task 1 - Filter rows\n",
        "\n",
        "**Input:** trips dataset\n",
        "\n",
        "### Task 1.1 - Remove \"0 distance\" and 'no passengers' records\n",
        "\n",
        "Remove dataset rows that represent invalid trips:\n",
        "\n",
        "- Trips where `trip_distance == 0` (no distance travelled)\n",
        "- Trips where `passenger_count == 0` and `total_amount == 0` (we want to retain records where `total_amount` > 0 - these may be significant as the taxi may have carried some parcel, for example)\n",
        "\n",
        "Altogether, a record is removed if it satisfies the following conditions:\n",
        "\n",
        "`trip_distance == 0` or `(passenger_count == 0` and `total_amount == 0)`.\n",
        "\n",
        "**Recommended:** Select only the relevant dataset columns for this and subsequent tasks: `['PULocationID', 'DOLocationID', 'trip_distance', 'passenger_count', 'total_amount')]`\n",
        "\n",
        "### Task 1.2 - Remove outliers using the modified z-score\n",
        "\n",
        "Despite having removed spurious \"zero passengers\" trips in task 1.1, columns `total_amount` and `trip_distance` contain additional outlier values that must be identified and removed.\n",
        "\n",
        "To identify and remove outliers, you will use the modified [z-score](https://en.wikipedia.org/wiki/Standard_score) method.\n",
        "The modified z-score uses the median and [Median Absolute Deviation](https://en.wikipedia.org/wiki/Median_absolute_deviation) (MAD), instead of the mean and standard deviation, to determine how far an observation (indexed by i) is from the mean:\n",
        "\n",
        "$$z_i = \\frac{x_i - \\mathit{median}(\\mathbf{x})}{\\mathbf{MAD}},$$\n",
        "\n",
        "where x represents the input vector, xi is an element of x and zi is its corresponding z-score. In turn, the MAD formula is:\n",
        "\n",
        "$$\\mathbf{MAD} = 1.483 * \\mathit{median}(\\big\\lvert x_i - \\mathit{median}(\\mathbf{x})\\big\\rvert).$$\n",
        "\n",
        "Observations with **high** (absolute) z-score are considered outlier observations. A score is considered **high** if its __absolute z-score__ is larger than a threshold T = 3.5:\n",
        "\n",
        "$$\\big\\lvert z_i \\big\\rvert > 3.5.$$\n",
        "\n",
        "where T represents the number of unit standard deviations beyond which a score is considered an outlier ([wiki](https://en.wikipedia.org/wiki/68%E2%80%9395%E2%80%9399.7_rule)).\n",
        "\n",
        "This process is repeated twice, once for each of the columns `total_amount` and `trip_distance` (in any order).\n",
        "\n",
        "**Important:** Use the surrogate function [`percentile_approx`](https://spark.apache.org/docs/3.2.0/api/python/reference/api/pyspark.sql.functions.percentile_approx.html?highlight=percentile#pyspark.sql.functions.percentile_approx) to estimate the median (calculating the median values for a column is expensive as it cannot be parallelised efficiently)."
      ]
    },
    {
      "cell_type": "code",
      "execution_count": null,
      "metadata": {
        "application/vnd.databricks.v1+cell": {
          "cellMetadata": {
            "byteLimit": 2048000,
            "rowLimit": 10000
          },
          "inputWidgets": {},
          "nuid": "b53021ef-a0ab-43be-8885-142617707a5c",
          "showTitle": false,
          "title": ""
        },
        "id": "CmFVcK5Jbr1l"
      },
      "outputs": [],
      "source": [
        "# develop your solution here (create/destroy cells as needed) and then implement it in the functions below"
      ]
    },
    {
      "cell_type": "markdown",
      "metadata": {
        "application/vnd.databricks.v1+cell": {
          "cellMetadata": {},
          "inputWidgets": {},
          "nuid": "52ac9506-e2ee-446a-b532-ea640482667e",
          "showTitle": false,
          "title": ""
        },
        "id": "5HsrT__Ubr1l"
      },
      "source": [
        "**In below task 1.1 implementation, I have removed \"0 distance\" and \"no passenger\" records as per the condition given. As it is recommended above in task description, I have selected only ('PULocationID', 'DOLocationID', 'trip_distance', 'passenger_count', 'total_amount') dataset columns and then applied filter.**"
      ]
    },
    {
      "cell_type": "code",
      "execution_count": null,
      "metadata": {
        "application/vnd.databricks.v1+cell": {
          "cellMetadata": {
            "byteLimit": 2048000,
            "rowLimit": 10000
          },
          "inputWidgets": {},
          "nuid": "4ac2d5d7-21d4-4bbb-b2ea-0e6e4df89a58",
          "showTitle": false,
          "title": ""
        },
        "id": "bcMEJHv7br1l"
      },
      "outputs": [],
      "source": [
        "# Your solution implementation to task 1.1 goes HERE\n",
        "def t11_remove_zeros(df):\n",
        "    # input: trips dataset\n",
        "    # As given in the recommendation, selecting only ('PULocationID', 'DOLocationID', 'trip_distance', 'passenger_count', 'total_amount') dataset columns.\n",
        "    new_df = df.select('PULocationID', 'DOLocationID', 'trip_distance', 'passenger_count', 'total_amount')\n",
        "\n",
        "    # Removing 0 distance and no passengers records\n",
        "    removedZeros = new_df.filter((new_df['trip_distance'] > 0.0) | ((new_df['passenger_count'] > 0.0) & (new_df['total_amount'] > 0.0)))\n",
        "\n",
        "    return removedZeros"
      ]
    },
    {
      "cell_type": "code",
      "execution_count": null,
      "metadata": {
        "application/vnd.databricks.v1+cell": {
          "cellMetadata": {
            "byteLimit": 2048000,
            "rowLimit": 10000
          },
          "inputWidgets": {},
          "nuid": "3c6c287d-8707-4989-8ee9-2967a486c925",
          "showTitle": false,
          "title": ""
        },
        "id": "GyTtSRakbr1l",
        "outputId": "4edfcec9-d21c-4f1c-da2f-727e30f2018b"
      },
      "outputs": [
        {
          "output_type": "stream",
          "name": "stdout",
          "text": [
            "Row count: 2,888,435\n"
          ]
        }
      ],
      "source": [
        "# execute task 1.1\n",
        "trips_11 = t11_remove_zeros(trips)\n",
        "\n",
        "print_count(trips_11)\n",
        "\n",
        "## uncomment only for smaller datasets\n",
        "# display(trips_11.take(10))"
      ]
    },
    {
      "cell_type": "markdown",
      "metadata": {
        "application/vnd.databricks.v1+cell": {
          "cellMetadata": {},
          "inputWidgets": {},
          "nuid": "c02ada1b-ea49-4a2c-a31f-004b8033e3df",
          "showTitle": false,
          "title": ""
        },
        "id": "Kd8z4E4Abr1l"
      },
      "source": [
        "**In implementation of task 1.2 we need to remove outliers using modified z-score method given in description above. We need to calculate z-score value of two columns \"total_amount\" and \"trip_distance\", and need to filter out rows with z-score value > 3.5. As mentioned in the description, z-score values need to be calculated individually for \"total_amount\" column and \"trip_distance\" column in any order. So I have done the calculation first on \"total_amount\" and then \"trip_distance\" column respectively.**"
      ]
    },
    {
      "cell_type": "code",
      "execution_count": null,
      "metadata": {
        "application/vnd.databricks.v1+cell": {
          "cellMetadata": {
            "byteLimit": 2048000,
            "rowLimit": 10000
          },
          "inputWidgets": {},
          "nuid": "c0162cd3-d060-495d-9a86-ebf4a6f507ac",
          "showTitle": false,
          "title": ""
        },
        "id": "cccRzPZvbr1l"
      },
      "outputs": [],
      "source": [
        "# Your solution implementation to task 1.2 goes HERE\n",
        "# Importing required libraries\n",
        "from pyspark.sql.functions import expr\n",
        "\n",
        "def t12_remove_outliers(df):\n",
        "\n",
        "    # Function to claculate median\n",
        "    def calc_median(y):\n",
        "        median = df.selectExpr(y).collect()[0][0]\n",
        "        return median\n",
        "\n",
        "    # Function to claculate MAD\n",
        "    def calc_mad(z, z1):\n",
        "        mad = df.selectExpr(z.format(z1)).collect()[0][0]\n",
        "        return mad\n",
        "\n",
        "    # Computing modified z score for total_amount column\n",
        "    totalAmount = \"percentile_approx(total_amount, 0.5)\"\n",
        "    totalAmount1 = \"1.483 * percentile_approx(abs(total_amount - {}), 0.5)\"\n",
        "    totalAmountMedian = calc_median(totalAmount)\n",
        "    totalAmountMad = calc_mad(totalAmount1, totalAmountMedian)\n",
        "\n",
        "    modified_z_score_expr_totalAmount = expr(\"(total_amount - {}) / {} AS total_amount_z_score\".format(totalAmountMedian, totalAmountMad))\n",
        "\n",
        "    # Add modified z-score column to DataFrame\n",
        "    df_with_z_scores_totalAmount = df.withColumn(\"total_amount_z_score\", modified_z_score_expr_totalAmount)\n",
        "\n",
        "    # Filter out rows with high absolute z-scores\n",
        "    filter_Zscores_totalAmount = df_with_z_scores_totalAmount.filter(\"abs(total_amount_z_score) <= 3.5\")\n",
        "\n",
        "\n",
        "    # Computing modified z score for trip_distance column\n",
        "    tripDistanceMedian = filter_Zscores_totalAmount.selectExpr(\"percentile_approx(trip_distance, 0.5)\").collect()[0][0]\n",
        "    tripDistanceMad = filter_Zscores_totalAmount.selectExpr(\"1.483 * percentile_approx(abs(trip_distance - {}), 0.5)\".format(tripDistanceMedian)).collect()[0][0]\n",
        "\n",
        "    modified_z_score_expr_tripDistance = expr(\"(trip_distance - {}) / {} AS trip_distance_z_score\".format(tripDistanceMedian, tripDistanceMad))\n",
        "\n",
        "    # Add modified z-score column to DataFrame\n",
        "    df_with_z_scores_tripDistance = filter_Zscores_totalAmount.withColumn(\"trip_distance_z_score\", modified_z_score_expr_tripDistance)\n",
        "\n",
        "    # Filter out rows with high absolute z-scores\n",
        "    filter_Zscores_tripDistance = df_with_z_scores_tripDistance.filter(\"abs(trip_distance_z_score) <= 3.5\")\n",
        "\n",
        "    # Drop newly added columns for \"total_amount_z_score\" and \"trip_distance_z_score\" from dataframe as they were used just for filtering\n",
        "    removedOutliers = filter_Zscores_tripDistance.drop(\"total_amount_z_score\",\"trip_distance_z_score\")\n",
        "\n",
        "    return removedOutliers"
      ]
    },
    {
      "cell_type": "code",
      "execution_count": null,
      "metadata": {
        "application/vnd.databricks.v1+cell": {
          "cellMetadata": {
            "byteLimit": 2048000,
            "rowLimit": 10000
          },
          "inputWidgets": {},
          "nuid": "96533a0e-242b-42d6-bc10-3b1ea3a13681",
          "showTitle": false,
          "title": ""
        },
        "id": "LzUnL9FZbr1l",
        "outputId": "5f076f91-6379-4ba8-87a2-0bce944e19fc"
      },
      "outputs": [
        {
          "output_type": "stream",
          "name": "stdout",
          "text": [
            "Row count: 2,461,535\n"
          ]
        }
      ],
      "source": [
        "# execute task 1.2\n",
        "trips_12 = t12_remove_outliers(trips_11)\n",
        "\n",
        "print_count(trips_12)\n",
        "# display(trips_12.take(10))"
      ]
    },
    {
      "cell_type": "markdown",
      "metadata": {
        "application/vnd.databricks.v1+cell": {
          "cellMetadata": {},
          "inputWidgets": {},
          "nuid": "77f3f561-5d39-46bf-84fa-0b0c3aafa0cc",
          "showTitle": false,
          "title": ""
        },
        "id": "1iyeWDO5br1m"
      },
      "source": [
        "## Task 2 - Compute new columns\n",
        "\n",
        "### Task 2.1 - Zone names\n",
        "\n",
        "Obtain the **start** and **end** zone names of each trip by joining the `trips` and `zone_names` datasets (i.e. by using the `zone_names` dataset as lookup table).\n",
        "\n",
        "**Note:** The columns containing the start and end zone ids of each trip are named `PULocationID` and `DOLocationID`, respectively.\n",
        "\n",
        "### Task 2.2 - Unit profitability\n",
        "\n",
        "Compute the column `unit_profitability = total_amount / trip_distance`."
      ]
    },
    {
      "cell_type": "code",
      "execution_count": null,
      "metadata": {
        "application/vnd.databricks.v1+cell": {
          "cellMetadata": {
            "byteLimit": 2048000,
            "rowLimit": 10000
          },
          "inputWidgets": {},
          "nuid": "a61d8288-1539-4f34-856f-98aa7fd0f7f4",
          "showTitle": false,
          "title": ""
        },
        "id": "c6zajVrObr1m"
      },
      "outputs": [],
      "source": [
        "# develop your solution here (create/destroy cells as needed) and then implement it in the functions below"
      ]
    },
    {
      "cell_type": "markdown",
      "metadata": {
        "application/vnd.databricks.v1+cell": {
          "cellMetadata": {},
          "inputWidgets": {},
          "nuid": "745c7c23-40a8-428f-a90b-0d4e57faa3be",
          "showTitle": false,
          "title": ""
        },
        "id": "eMQUj2ySbr1m"
      },
      "source": [
        "**Obtaining start zone and end zone names for the trips by joining it with \"zone_names\" dataset.**"
      ]
    },
    {
      "cell_type": "code",
      "execution_count": null,
      "metadata": {
        "application/vnd.databricks.v1+cell": {
          "cellMetadata": {
            "byteLimit": 2048000,
            "rowLimit": 10000
          },
          "inputWidgets": {},
          "nuid": "bf0cd0ff-8d0a-4b46-82de-e2edd56e2f10",
          "showTitle": false,
          "title": ""
        },
        "id": "L7-Xj6Jbbr1m"
      },
      "outputs": [],
      "source": [
        "# Your solution implementation to task 2.1 goes HERE\n",
        "# Importing required libraries\n",
        "from pyspark.sql.functions import col\n",
        "\n",
        "def t21_join_zones(df, zones_df = zone_names):\n",
        "    # input: output of task 1.2 and zone_names dataset\n",
        "\n",
        "    # Obtaining the start zone name\n",
        "    df = df.join(zones_df, df.PULocationID == zones_df.LocationID)\n",
        "    df = df.select('PULocationID', 'DOLocationID', 'trip_distance', 'passenger_count', 'total_amount', 'Zone')\n",
        "    df = df.withColumnRenamed(\"Zone\",\"start_zone\")\n",
        "\n",
        "    # Obtaining the end zone name\n",
        "    zones_df = zones_df.select(\"LocationID\",col(\"Zone\").alias(\"Zone1\"))\n",
        "    df = df.join(zones_df, df.DOLocationID == zones_df.LocationID)\n",
        "    df = df.select('PULocationID', 'DOLocationID', 'trip_distance', 'passenger_count', 'total_amount', 'start_zone', 'Zone1')\n",
        "    df = df.withColumnRenamed(\"Zone1\",\"end_zone\")\n",
        "\n",
        "    return df"
      ]
    },
    {
      "cell_type": "code",
      "execution_count": null,
      "metadata": {
        "application/vnd.databricks.v1+cell": {
          "cellMetadata": {
            "byteLimit": 2048000,
            "rowLimit": 10000
          },
          "inputWidgets": {},
          "nuid": "6a3abc15-94bb-4352-964f-e3919956b363",
          "showTitle": false,
          "title": ""
        },
        "id": "DDP7_OzJbr1m",
        "outputId": "dd01462e-9600-49dc-9e80-d59bc42b2de0"
      },
      "outputs": [
        {
          "output_type": "stream",
          "name": "stdout",
          "text": [
            "Row count: 2,461,535\n"
          ]
        }
      ],
      "source": [
        "# execute task 2.1\n",
        "trips_21 = t21_join_zones(trips_12, zones_df = zone_names)\n",
        "\n",
        "print_count(trips_21)\n",
        "# display(trips_21.take(10))"
      ]
    },
    {
      "cell_type": "markdown",
      "metadata": {
        "application/vnd.databricks.v1+cell": {
          "cellMetadata": {},
          "inputWidgets": {},
          "nuid": "0fef2e3e-4aac-4ee4-93e4-52fe9e7b1e9f",
          "showTitle": false,
          "title": ""
        },
        "id": "yNNYycgMbr1m"
      },
      "source": [
        "**In implementation of task 2.2 we compute new column \"unit_profitability\".**"
      ]
    },
    {
      "cell_type": "code",
      "execution_count": null,
      "metadata": {
        "application/vnd.databricks.v1+cell": {
          "cellMetadata": {
            "byteLimit": 2048000,
            "rowLimit": 10000
          },
          "inputWidgets": {},
          "nuid": "244ecaed-2632-4ed1-ab91-e41d8a91b7c2",
          "showTitle": false,
          "title": ""
        },
        "id": "1kLNJ8BDbr1m"
      },
      "outputs": [],
      "source": [
        "# Your solution implementation to task 2.2 goes HERE\n",
        "def t22_calc_profit(df):\n",
        "    # input: output of task 2.1\n",
        "\n",
        "    df = df.withColumn(\"unit_profitability\", df['total_amount']/df['trip_distance'])\n",
        "\n",
        "    return df"
      ]
    },
    {
      "cell_type": "code",
      "execution_count": null,
      "metadata": {
        "application/vnd.databricks.v1+cell": {
          "cellMetadata": {
            "byteLimit": 2048000,
            "rowLimit": 10000
          },
          "inputWidgets": {},
          "nuid": "a3528be7-4fe2-4e68-a94b-a3b33ada952c",
          "showTitle": false,
          "title": ""
        },
        "id": "rT8IyCP-br1m",
        "outputId": "4ec4dad4-4974-4193-9317-9b3ce3b663a2"
      },
      "outputs": [
        {
          "output_type": "stream",
          "name": "stdout",
          "text": [
            "Row count: 2,461,535\n"
          ]
        }
      ],
      "source": [
        "# execute task 2.2\n",
        "trips_22 = t22_calc_profit(trips_21)\n",
        "\n",
        "print_count(trips_22)\n",
        "# display(trips_22.take(10))"
      ]
    },
    {
      "cell_type": "markdown",
      "metadata": {
        "application/vnd.databricks.v1+cell": {
          "cellMetadata": {},
          "inputWidgets": {},
          "nuid": "93c4a6e7-512f-40a8-ad2c-41a84ade373f",
          "showTitle": false,
          "title": ""
        },
        "id": "gJj0Nvoybr1m"
      },
      "source": [
        "## Task 3: Rank zones by traffic, passenger volume and profitability\n",
        "\n",
        "### 3.1 - Summarise interzonal travel\n",
        "\n",
        "Build a graph data structure of zone-to-zone traffic, representing aggregated data about trips between any two zones. The graph will have one node for each zone and one edge connecting each pair of zones. In addition, edges contain aggregate information about all trips between those zones.\n",
        "\n",
        "For example, zones Z1 and Z2 are connected by *two* edges: edge Z1 --> Z2 carries aggregate data about all trips that originated in Z1 and ended in Z2, and edge Z2 --> Z1 carries aggregate data about all trips that originated in Z2 and ended in Z1.\n",
        "\n",
        "The aggregate information of interzonal travel must include the following data:\n",
        "\n",
        "- `average_unit_profit` - the average unit profitability (calculated as `mean(unit_profitability)`).\n",
        "- `trips_count` -- the total number of recorded trips.\n",
        "- `total_passengers` -- the total number of passenger across all trips (sum of `passenger_count`).\n",
        "\n",
        "This graph can be represented as a new dataframe, with schema:\n",
        "\n",
        "\\[`PULocationID`, `DOLocationID`, `average_unit_profit`, `trips_count`, `total_passengers` \\]\n",
        "\n",
        "__hint__: the `groupby()` operator produces a `pyspark.sql.GroupedData` structure. You can then calculate multiple aggregations from this using `pyspark.sql.GroupedData.agg()`:\n",
        "- https://spark.apache.org/docs/3.2.0/api/python/reference/pyspark.pandas/api/pyspark.pandas.DataFrame.groupby.html\n",
        "- https://spark.apache.org/docs/3.2.0/api/python/reference/api/pyspark.sql.GroupedData.agg.html\n",
        "\n",
        "### Task 3.2 - Obtain top-10 zones\n",
        "\n",
        "For each of the following measures, report the top-10 zones _using their plain names you dereferenced in the previous step, not the codes_. Note that this requires ranking the nodes in different orders. Specifically, you need to calculate the following further aggregations:\n",
        "\n",
        "- the **total** number of trips originating from Z. This is simply the sum of `trips_count` over all outgoing edges for Z, i.e., edges of the form Z -> \\*\n",
        "- the **average** profitability of a zone. This is the average of all `average_unit_profit` over all *outgoing* edges from Z.\n",
        "- The **total** passenger volume measured as the **sum** of `total_passengers` carried in trips that originate from Z"
      ]
    },
    {
      "cell_type": "code",
      "execution_count": null,
      "metadata": {
        "application/vnd.databricks.v1+cell": {
          "cellMetadata": {
            "byteLimit": 2048000,
            "rowLimit": 10000
          },
          "inputWidgets": {},
          "nuid": "069fc68b-acdd-47c2-be12-27d32b7916c8",
          "showTitle": false,
          "title": ""
        },
        "id": "96Q8I_t9br1m"
      },
      "outputs": [],
      "source": [
        "# develop your solution here (create/destroy cells as needed) and then implement it in the functions below"
      ]
    },
    {
      "cell_type": "code",
      "execution_count": null,
      "metadata": {
        "application/vnd.databricks.v1+cell": {
          "cellMetadata": {
            "byteLimit": 2048000,
            "rowLimit": 10000
          },
          "inputWidgets": {},
          "nuid": "38084194-2635-46aa-ac74-93509c03a86e",
          "showTitle": false,
          "title": ""
        },
        "id": "n3Z5-k9Bbr1n"
      },
      "outputs": [],
      "source": [
        "## Your solution to task 3.1 goes HERE\n",
        "def t31_summarise_trips(df):\n",
        "    # input: output of task 2.2\n",
        "    df = df.groupby(df['PULocationID'], df['DOLocationID']).agg(pf.mean(df['unit_profitability']),pf.count(df['PULocationID']),pf.sum(df['passenger_count']))\n",
        "    df = df.withColumnRenamed('avg(unit_profitability)','average_unit_profit').withColumnRenamed('count(PULocationID)', 'trips_count').withColumnRenamed('sum(passenger_count)', 'total_passengers')\n",
        "    return df"
      ]
    },
    {
      "cell_type": "code",
      "execution_count": null,
      "metadata": {
        "application/vnd.databricks.v1+cell": {
          "cellMetadata": {
            "byteLimit": 2048000,
            "rowLimit": 10000
          },
          "inputWidgets": {},
          "nuid": "b81c74ad-e5f1-4b69-a320-bdf375b94e8d",
          "showTitle": false,
          "title": ""
        },
        "id": "PpvD7PRfbr1n",
        "outputId": "b201a5af-8628-4bdc-d4a7-ad5050f8fcb8"
      },
      "outputs": [
        {
          "output_type": "stream",
          "name": "stdout",
          "text": [
            "Row count: 14,361\n"
          ]
        }
      ],
      "source": [
        "# execute task 3.1\n",
        "graph = t31_summarise_trips(trips_22)\n",
        "\n",
        "print_count(graph)\n",
        "# display(graph.take(10))"
      ]
    },
    {
      "cell_type": "code",
      "execution_count": null,
      "metadata": {
        "application/vnd.databricks.v1+cell": {
          "cellMetadata": {
            "byteLimit": 2048000,
            "rowLimit": 10000
          },
          "inputWidgets": {},
          "nuid": "c285cd2d-861b-4790-8fe8-4b4b6cdbc8f4",
          "showTitle": false,
          "title": ""
        },
        "id": "z-DDgkl_br1n"
      },
      "outputs": [],
      "source": [
        "# Your solution to task 3.2 goes HERE (implement each of the functions below)\n",
        "def t32_summarise_zones_pairs(df, zones_df = zone_names):\n",
        "    df = df.groupby(df['PULocationID']).agg(pf.sum(df['trips_count']), pf.mean(df['average_unit_profit']), pf.sum(df['total_passengers']))\n",
        "    df = df.withColumnRenamed('sum(trips_count)', 'total_no_trips').withColumnRenamed('avg(average_unit_profit)', 'average profitability').withColumnRenamed('sum(total_passengers)', 'total_no_passenger').join(zones_df, df.PULocationID == zones_df.LocationID, \"left\")\n",
        "    df = df.drop('Borough').drop('service_zone')\n",
        "    return df\n",
        "\n",
        "# Top 10 ranked zones by traffic (trip volume)\n",
        "def t32_top10_trips(df_zones):\n",
        "    # input: output of task 3.2\n",
        "    top10_tripss = df_zones.orderBy(col('total_no_trips').desc()).take(10)\n",
        "    return top10_tripss\n",
        "\n",
        "# Top 10 ranked zones by profit\n",
        "def t32_top10_profit(df_zones):\n",
        "    # input: output of task 3.2\n",
        "    top10_profitt = df_zones.orderBy(col('average profitability').desc()).take(10)\n",
        "    return top10_profitt\n",
        "\n",
        "# Top 10 ranked zones by passenger volume\n",
        "def t32_top10_passenger(df_zones):\n",
        "    # input: output of task 3.2\n",
        "    top10_passengerr = df_zones.orderBy(col('total_no_passenger').desc()).take(10)\n",
        "    return top10_passengerr"
      ]
    },
    {
      "cell_type": "code",
      "execution_count": null,
      "metadata": {
        "application/vnd.databricks.v1+cell": {
          "cellMetadata": {
            "byteLimit": 2048000,
            "rowLimit": 10000
          },
          "inputWidgets": {},
          "nuid": "0bb32624-cca2-461e-816d-c49ecc98374e",
          "showTitle": false,
          "title": ""
        },
        "id": "2qg4Glk3br1n"
      },
      "outputs": [],
      "source": [
        "# execute task 3.2\n",
        "zones = t32_summarise_zones_pairs(graph)\n",
        "\n",
        "top10_trips     = t32_top10_trips(zones)\n",
        "top10_profit    = t32_top10_profit(zones)\n",
        "top10_passenger = t32_top10_passenger(zones)"
      ]
    },
    {
      "cell_type": "code",
      "execution_count": null,
      "metadata": {
        "application/vnd.databricks.v1+cell": {
          "cellMetadata": {
            "byteLimit": 2048000,
            "rowLimit": 10000
          },
          "inputWidgets": {},
          "nuid": "382adcca-e15c-45d2-88bf-6ae97b8c6e30",
          "showTitle": false,
          "title": ""
        },
        "id": "SJN_Qb60br1n",
        "outputId": "076cf4aa-4520-4375-e8a9-65c2a2468f3d"
      },
      "outputs": [
        {
          "output_type": "display_data",
          "data": {
            "text/html": [
              "<style scoped>\n",
              "  .table-result-container {\n",
              "    max-height: 300px;\n",
              "    overflow: auto;\n",
              "  }\n",
              "  table, th, td {\n",
              "    border: 1px solid black;\n",
              "    border-collapse: collapse;\n",
              "  }\n",
              "  th, td {\n",
              "    padding: 5px;\n",
              "  }\n",
              "  th {\n",
              "    text-align: left;\n",
              "  }\n",
              "</style><div class='table-result-container'><table class='table-result'><thead style='background-color: white'><tr><th>PULocationID</th><th>total_no_trips</th><th>average profitability</th><th>total_no_passenger</th><th>LocationID</th><th>Zone</th></tr></thead><tbody><tr><td>237</td><td>121782</td><td>6.904942617564514</td><td>169758.0</td><td>237</td><td>Upper East Side South</td></tr><tr><td>236</td><td>103428</td><td>7.086510643557858</td><td>143555.0</td><td>236</td><td>Upper East Side North</td></tr><tr><td>186</td><td>96332</td><td>7.9173290357329105</td><td>136582.0</td><td>186</td><td>Penn Station/Madison Sq West</td></tr><tr><td>161</td><td>93257</td><td>7.685414381975197</td><td>134233.0</td><td>161</td><td>Midtown Center</td></tr><tr><td>170</td><td>87892</td><td>7.757348026142983</td><td>123083.0</td><td>170</td><td>Murray Hill</td></tr><tr><td>162</td><td>84506</td><td>7.440035224459652</td><td>118843.0</td><td>162</td><td>Midtown East</td></tr><tr><td>142</td><td>80608</td><td>7.570946106028091</td><td>114236.0</td><td>142</td><td>Lincoln Square East</td></tr><tr><td>239</td><td>74157</td><td>6.920120397371032</td><td>105026.0</td><td>239</td><td>Upper West Side South</td></tr><tr><td>48</td><td>74097</td><td>8.939710370747635</td><td>106450.0</td><td>48</td><td>Clinton East</td></tr><tr><td>141</td><td>73931</td><td>6.5210824289445934</td><td>103138.0</td><td>141</td><td>Lenox Hill West</td></tr></tbody></table></div>"
            ]
          },
          "metadata": {
            "application/vnd.databricks.v1+output": {
              "addedWidgets": {},
              "aggData": [],
              "aggError": "",
              "aggOverflow": false,
              "aggSchema": [],
              "aggSeriesLimitReached": false,
              "aggType": "",
              "arguments": {},
              "columnCustomDisplayInfos": {},
              "data": [
                [
                  237,
                  121782,
                  6.904942617564514,
                  169758,
                  237,
                  "Upper East Side South"
                ],
                [
                  236,
                  103428,
                  7.086510643557858,
                  143555,
                  236,
                  "Upper East Side North"
                ],
                [
                  186,
                  96332,
                  7.9173290357329105,
                  136582,
                  186,
                  "Penn Station/Madison Sq West"
                ],
                [
                  161,
                  93257,
                  7.685414381975197,
                  134233,
                  161,
                  "Midtown Center"
                ],
                [
                  170,
                  87892,
                  7.757348026142983,
                  123083,
                  170,
                  "Murray Hill"
                ],
                [
                  162,
                  84506,
                  7.440035224459652,
                  118843,
                  162,
                  "Midtown East"
                ],
                [
                  142,
                  80608,
                  7.570946106028091,
                  114236,
                  142,
                  "Lincoln Square East"
                ],
                [
                  239,
                  74157,
                  6.920120397371032,
                  105026,
                  239,
                  "Upper West Side South"
                ],
                [
                  48,
                  74097,
                  8.939710370747635,
                  106450,
                  48,
                  "Clinton East"
                ],
                [
                  141,
                  73931,
                  6.5210824289445934,
                  103138,
                  141,
                  "Lenox Hill West"
                ]
              ],
              "datasetInfos": [],
              "dbfsResultPath": null,
              "isJsonSchema": true,
              "metadata": {},
              "overflow": false,
              "plotOptions": {
                "customPlotOptions": {},
                "displayType": "table",
                "pivotAggregation": null,
                "pivotColumns": null,
                "xColumns": null,
                "yColumns": null
              },
              "removedWidgets": [],
              "schema": [
                {
                  "metadata": "{}",
                  "name": "PULocationID",
                  "type": "\"long\""
                },
                {
                  "metadata": "{}",
                  "name": "total_no_trips",
                  "type": "\"long\""
                },
                {
                  "metadata": "{}",
                  "name": "average profitability",
                  "type": "\"double\""
                },
                {
                  "metadata": "{}",
                  "name": "total_no_passenger",
                  "type": "\"double\""
                },
                {
                  "metadata": "{}",
                  "name": "LocationID",
                  "type": "\"long\""
                },
                {
                  "metadata": "{}",
                  "name": "Zone",
                  "type": "\"string\""
                }
              ],
              "type": "table"
            }
          }
        }
      ],
      "source": [
        "# use 'display()' or return a pandas DataFrame for 'pretty' output\n",
        "display(top10_trips)"
      ]
    },
    {
      "cell_type": "code",
      "execution_count": null,
      "metadata": {
        "application/vnd.databricks.v1+cell": {
          "cellMetadata": {
            "byteLimit": 2048000,
            "rowLimit": 10000
          },
          "inputWidgets": {},
          "nuid": "847abfd1-7424-43c0-976e-5c615736a56b",
          "showTitle": false,
          "title": ""
        },
        "id": "Y2SOMe-6br1n",
        "outputId": "cb6c8f86-1701-423e-97fb-747a61f2d010"
      },
      "outputs": [
        {
          "output_type": "display_data",
          "data": {
            "text/html": [
              "<style scoped>\n",
              "  .table-result-container {\n",
              "    max-height: 300px;\n",
              "    overflow: auto;\n",
              "  }\n",
              "  table, th, td {\n",
              "    border: 1px solid black;\n",
              "    border-collapse: collapse;\n",
              "  }\n",
              "  th, td {\n",
              "    padding: 5px;\n",
              "  }\n",
              "  th {\n",
              "    text-align: left;\n",
              "  }\n",
              "</style><div class='table-result-container'><table class='table-result'><thead style='background-color: white'><tr><th>PULocationID</th><th>total_no_trips</th><th>average profitability</th><th>total_no_passenger</th><th>LocationID</th><th>Zone</th></tr></thead><tbody><tr><td>15</td><td>55</td><td>373.64352610622007</td><td>16.0</td><td>15</td><td>Bay Terrace/Fort Totten</td></tr><tr><td>10</td><td>355</td><td>106.86575379124723</td><td>153.0</td><td>10</td><td>Baisley Park</td></tr><tr><td>207</td><td>294</td><td>103.12501378067475</td><td>354.0</td><td>207</td><td>Saint Michaels Cemetery/Woodside</td></tr><tr><td>190</td><td>76</td><td>90.59317954859831</td><td>67.0</td><td>190</td><td>Prospect Park</td></tr><tr><td>241</td><td>228</td><td>59.391859123131994</td><td>89.0</td><td>241</td><td>Van Cortlandt Village</td></tr><tr><td>101</td><td>27</td><td>48.41059594606823</td><td>12.0</td><td>101</td><td>Glen Oaks</td></tr><tr><td>115</td><td>4</td><td>38.65</td><td>4.0</td><td>115</td><td>Grymes Hill/Clifton</td></tr><tr><td>59</td><td>8</td><td>36.84437137879828</td><td>6.0</td><td>59</td><td>Crotona Park</td></tr><tr><td>81</td><td>142</td><td>35.01882481592064</td><td>19.0</td><td>81</td><td>Eastchester</td></tr><tr><td>89</td><td>714</td><td>35.000379842565565</td><td>176.0</td><td>89</td><td>Flatbush/Ditmas Park</td></tr></tbody></table></div>"
            ]
          },
          "metadata": {
            "application/vnd.databricks.v1+output": {
              "addedWidgets": {},
              "aggData": [],
              "aggError": "",
              "aggOverflow": false,
              "aggSchema": [],
              "aggSeriesLimitReached": false,
              "aggType": "",
              "arguments": {},
              "columnCustomDisplayInfos": {},
              "data": [
                [
                  15,
                  55,
                  373.64352610622007,
                  16,
                  15,
                  "Bay Terrace/Fort Totten"
                ],
                [
                  10,
                  355,
                  106.86575379124723,
                  153,
                  10,
                  "Baisley Park"
                ],
                [
                  207,
                  294,
                  103.12501378067475,
                  354,
                  207,
                  "Saint Michaels Cemetery/Woodside"
                ],
                [
                  190,
                  76,
                  90.59317954859831,
                  67,
                  190,
                  "Prospect Park"
                ],
                [
                  241,
                  228,
                  59.391859123131994,
                  89,
                  241,
                  "Van Cortlandt Village"
                ],
                [
                  101,
                  27,
                  48.41059594606823,
                  12,
                  101,
                  "Glen Oaks"
                ],
                [
                  115,
                  4,
                  38.65,
                  4,
                  115,
                  "Grymes Hill/Clifton"
                ],
                [
                  59,
                  8,
                  36.84437137879828,
                  6,
                  59,
                  "Crotona Park"
                ],
                [
                  81,
                  142,
                  35.01882481592064,
                  19,
                  81,
                  "Eastchester"
                ],
                [
                  89,
                  714,
                  35.000379842565565,
                  176,
                  89,
                  "Flatbush/Ditmas Park"
                ]
              ],
              "datasetInfos": [],
              "dbfsResultPath": null,
              "isJsonSchema": true,
              "metadata": {},
              "overflow": false,
              "plotOptions": {
                "customPlotOptions": {},
                "displayType": "table",
                "pivotAggregation": null,
                "pivotColumns": null,
                "xColumns": null,
                "yColumns": null
              },
              "removedWidgets": [],
              "schema": [
                {
                  "metadata": "{}",
                  "name": "PULocationID",
                  "type": "\"long\""
                },
                {
                  "metadata": "{}",
                  "name": "total_no_trips",
                  "type": "\"long\""
                },
                {
                  "metadata": "{}",
                  "name": "average profitability",
                  "type": "\"double\""
                },
                {
                  "metadata": "{}",
                  "name": "total_no_passenger",
                  "type": "\"double\""
                },
                {
                  "metadata": "{}",
                  "name": "LocationID",
                  "type": "\"long\""
                },
                {
                  "metadata": "{}",
                  "name": "Zone",
                  "type": "\"string\""
                }
              ],
              "type": "table"
            }
          }
        }
      ],
      "source": [
        "# use 'display()' return a pandas DataFrame for 'pretty' output\n",
        "display(top10_profit)"
      ]
    },
    {
      "cell_type": "code",
      "execution_count": null,
      "metadata": {
        "application/vnd.databricks.v1+cell": {
          "cellMetadata": {
            "byteLimit": 2048000,
            "rowLimit": 10000
          },
          "inputWidgets": {},
          "nuid": "90eb7561-5775-4e6a-8317-473f311e4cfe",
          "showTitle": false,
          "title": ""
        },
        "id": "oWUpoU8ebr1n",
        "outputId": "4b35f3c6-cedf-4dcd-c86d-eaed15230b4e"
      },
      "outputs": [
        {
          "output_type": "display_data",
          "data": {
            "text/html": [
              "<style scoped>\n",
              "  .table-result-container {\n",
              "    max-height: 300px;\n",
              "    overflow: auto;\n",
              "  }\n",
              "  table, th, td {\n",
              "    border: 1px solid black;\n",
              "    border-collapse: collapse;\n",
              "  }\n",
              "  th, td {\n",
              "    padding: 5px;\n",
              "  }\n",
              "  th {\n",
              "    text-align: left;\n",
              "  }\n",
              "</style><div class='table-result-container'><table class='table-result'><thead style='background-color: white'><tr><th>PULocationID</th><th>total_no_trips</th><th>average profitability</th><th>total_no_passenger</th><th>LocationID</th><th>Zone</th></tr></thead><tbody><tr><td>237</td><td>121782</td><td>6.904942617564514</td><td>169758.0</td><td>237</td><td>Upper East Side South</td></tr><tr><td>236</td><td>103428</td><td>7.086510643557858</td><td>143555.0</td><td>236</td><td>Upper East Side North</td></tr><tr><td>186</td><td>96332</td><td>7.9173290357329105</td><td>136582.0</td><td>186</td><td>Penn Station/Madison Sq West</td></tr><tr><td>161</td><td>93257</td><td>7.685414381975197</td><td>134233.0</td><td>161</td><td>Midtown Center</td></tr><tr><td>170</td><td>87892</td><td>7.757348026142983</td><td>123083.0</td><td>170</td><td>Murray Hill</td></tr><tr><td>162</td><td>84506</td><td>7.440035224459652</td><td>118843.0</td><td>162</td><td>Midtown East</td></tr><tr><td>142</td><td>80608</td><td>7.570946106028091</td><td>114236.0</td><td>142</td><td>Lincoln Square East</td></tr><tr><td>48</td><td>74097</td><td>8.939710370747635</td><td>106450.0</td><td>48</td><td>Clinton East</td></tr><tr><td>239</td><td>74157</td><td>6.920120397371032</td><td>105026.0</td><td>239</td><td>Upper West Side South</td></tr><tr><td>234</td><td>73352</td><td>7.573112251525214</td><td>104817.0</td><td>234</td><td>Union Sq</td></tr></tbody></table></div>"
            ]
          },
          "metadata": {
            "application/vnd.databricks.v1+output": {
              "addedWidgets": {},
              "aggData": [],
              "aggError": "",
              "aggOverflow": false,
              "aggSchema": [],
              "aggSeriesLimitReached": false,
              "aggType": "",
              "arguments": {},
              "columnCustomDisplayInfos": {},
              "data": [
                [
                  237,
                  121782,
                  6.904942617564514,
                  169758,
                  237,
                  "Upper East Side South"
                ],
                [
                  236,
                  103428,
                  7.086510643557858,
                  143555,
                  236,
                  "Upper East Side North"
                ],
                [
                  186,
                  96332,
                  7.9173290357329105,
                  136582,
                  186,
                  "Penn Station/Madison Sq West"
                ],
                [
                  161,
                  93257,
                  7.685414381975197,
                  134233,
                  161,
                  "Midtown Center"
                ],
                [
                  170,
                  87892,
                  7.757348026142983,
                  123083,
                  170,
                  "Murray Hill"
                ],
                [
                  162,
                  84506,
                  7.440035224459652,
                  118843,
                  162,
                  "Midtown East"
                ],
                [
                  142,
                  80608,
                  7.570946106028091,
                  114236,
                  142,
                  "Lincoln Square East"
                ],
                [
                  48,
                  74097,
                  8.939710370747635,
                  106450,
                  48,
                  "Clinton East"
                ],
                [
                  239,
                  74157,
                  6.920120397371032,
                  105026,
                  239,
                  "Upper West Side South"
                ],
                [
                  234,
                  73352,
                  7.573112251525214,
                  104817,
                  234,
                  "Union Sq"
                ]
              ],
              "datasetInfos": [],
              "dbfsResultPath": null,
              "isJsonSchema": true,
              "metadata": {},
              "overflow": false,
              "plotOptions": {
                "customPlotOptions": {},
                "displayType": "table",
                "pivotAggregation": null,
                "pivotColumns": null,
                "xColumns": null,
                "yColumns": null
              },
              "removedWidgets": [],
              "schema": [
                {
                  "metadata": "{}",
                  "name": "PULocationID",
                  "type": "\"long\""
                },
                {
                  "metadata": "{}",
                  "name": "total_no_trips",
                  "type": "\"long\""
                },
                {
                  "metadata": "{}",
                  "name": "average profitability",
                  "type": "\"double\""
                },
                {
                  "metadata": "{}",
                  "name": "total_no_passenger",
                  "type": "\"double\""
                },
                {
                  "metadata": "{}",
                  "name": "LocationID",
                  "type": "\"long\""
                },
                {
                  "metadata": "{}",
                  "name": "Zone",
                  "type": "\"string\""
                }
              ],
              "type": "table"
            }
          }
        }
      ],
      "source": [
        "# use 'display()' or return a pandas DataFrame for 'pretty' output\n",
        "display(top10_passenger)"
      ]
    },
    {
      "cell_type": "markdown",
      "metadata": {
        "application/vnd.databricks.v1+cell": {
          "cellMetadata": {},
          "inputWidgets": {},
          "nuid": "7b950c5e-b7fd-405e-a0ba-0fe9c2752678",
          "showTitle": false,
          "title": ""
        },
        "id": "5NznoFURbr1n"
      },
      "source": [
        "## Task 4 - Record the pipeline's execution time\n",
        "\n",
        "Record the execution time of:\n",
        "\n",
        "1. the whole pipeline\n",
        "2. the whole pipeline except task 1.2\n",
        "\n",
        "on the two tables below, for all dataset sizes: `'S'`, `'M'`, `'L'`, `'XL'`, `'XXL'`, and data formats: `parquet` and `delta`.\n",
        "\n",
        "Analyse the resulting execution times and comment on the effect of dataset size, dataset format and task complexity (with and without task 1.2) on pipeline performance."
      ]
    },
    {
      "cell_type": "code",
      "execution_count": null,
      "metadata": {
        "application/vnd.databricks.v1+cell": {
          "cellMetadata": {
            "byteLimit": 2048000,
            "rowLimit": 10000
          },
          "inputWidgets": {},
          "nuid": "a0e68e8c-4de9-4e04-9de0-f36e24b10f7a",
          "showTitle": false,
          "title": ""
        },
        "id": "Z32ZP_RZbr1n",
        "outputId": "f3e513ea-16f7-4ba1-9039-afc53abe63ea"
      },
      "outputs": [
        {
          "output_type": "stream",
          "name": "stdout",
          "text": [
            "\n    Trips dataset loaded!\n    ---\n      Size: XXL\n      Format: delta\n      Tables loaded: /FileStore/tables/taxi/delta/taxi-XXL-delta/\n      Number of trips (dataset rows): 132,396,785\n    \n"
          ]
        }
      ],
      "source": [
        "# CHANGE the value of the following arguments to record the pipeline execution times for increasing dataset sizes\n",
        "SIZE = 'XXL'\n",
        "DATA_FORMAT = 'delta'\n",
        "WITH_TASK_12 = True\n",
        "\n",
        "# Load trips dataset\n",
        "trips = init_trips(SIZE, DATA_FORMAT)"
      ]
    },
    {
      "cell_type": "code",
      "execution_count": null,
      "metadata": {
        "application/vnd.databricks.v1+cell": {
          "cellMetadata": {
            "byteLimit": 2048000,
            "rowLimit": 10000
          },
          "inputWidgets": {},
          "nuid": "68681494-9d89-4706-908d-c5545444e8ca",
          "showTitle": false,
          "title": ""
        },
        "id": "wZMuRd82br1n",
        "outputId": "ccbf9a73-c3cc-49fc-a77b-84a8352da55a"
      },
      "outputs": [
        {
          "output_type": "execute_result",
          "data": {
            "text/plain": [
              "[[Row(PULocationID=237, total_no_trips=5310020, average profitability=21.147393908739954, total_no_passenger=7915455.0, LocationID=237, Zone='Upper East Side South'),\n",
              "  Row(PULocationID=236, total_no_trips=4863323, average profitability=12.100854640836335, total_no_passenger=7253828.0, LocationID=236, Zone='Upper East Side North'),\n",
              "  Row(PULocationID=161, total_no_trips=4458485, average profitability=22.239805098570198, total_no_passenger=6810486.0, LocationID=161, Zone='Midtown Center'),\n",
              "  Row(PULocationID=186, total_no_trips=4041730, average profitability=13.321993203498558, total_no_passenger=6038775.0, LocationID=186, Zone='Penn Station/Madison Sq West'),\n",
              "  Row(PULocationID=162, total_no_trips=3935304, average profitability=16.471113676345233, total_no_passenger=5911055.0, LocationID=162, Zone='Midtown East'),\n",
              "  Row(PULocationID=142, total_no_trips=3523890, average profitability=20.08786025170914, total_no_passenger=5370025.0, LocationID=142, Zone='Lincoln Square East'),\n",
              "  Row(PULocationID=170, total_no_trips=3498715, average profitability=29.270692404637103, total_no_passenger=5232698.0, LocationID=170, Zone='Murray Hill'),\n",
              "  Row(PULocationID=48, total_no_trips=3427370, average profitability=15.277356642135546, total_no_passenger=5269536.0, LocationID=48, Zone='Clinton East'),\n",
              "  Row(PULocationID=234, total_no_trips=3388696, average profitability=19.48019942802039, total_no_passenger=5160322.0, LocationID=234, Zone='Union Sq'),\n",
              "  Row(PULocationID=230, total_no_trips=3378649, average profitability=14.488093369348814, total_no_passenger=5346890.0, LocationID=230, Zone='Times Sq/Theatre District')],\n",
              " [Row(PULocationID=15, total_no_trips=2382, average profitability=126.05155525826203, total_no_passenger=1791.0, LocationID=15, Zone='Bay Terrace/Fort Totten'),\n",
              "  Row(PULocationID=131, total_no_trips=8833, average profitability=105.86335205397634, total_no_passenger=5977.0, LocationID=131, Zone='Jamaica Estates'),\n",
              "  Row(PULocationID=101, total_no_trips=1821, average profitability=104.52711954174958, total_no_passenger=1623.0, LocationID=101, Zone='Glen Oaks'),\n",
              "  Row(PULocationID=73, total_no_trips=2004, average profitability=97.24853924254921, total_no_passenger=1663.0, LocationID=73, Zone='East Flushing'),\n",
              "  Row(PULocationID=201, total_no_trips=646, average profitability=91.78280233233235, total_no_passenger=612.0, LocationID=201, Zone='Rockaway Park'),\n",
              "  Row(PULocationID=86, total_no_trips=1519, average profitability=82.71299332397899, total_no_passenger=1400.0, LocationID=86, Zone='Far Rockaway'),\n",
              "  Row(PULocationID=188, total_no_trips=62516, average profitability=73.127842539114, total_no_passenger=48049.0, LocationID=188, Zone='Prospect-Lefferts Gardens'),\n",
              "  Row(PULocationID=39, total_no_trips=30187, average profitability=73.011758898116, total_no_passenger=20170.0, LocationID=39, Zone='Canarsie'),\n",
              "  Row(PULocationID=132, total_no_trips=303683, average profitability=68.03027441631848, total_no_passenger=447818.0, LocationID=132, Zone='JFK Airport'),\n",
              "  Row(PULocationID=218, total_no_trips=10286, average profitability=67.24988142755436, total_no_passenger=6677.0, LocationID=218, Zone='Springfield Gardens North')],\n",
              " [Row(PULocationID=237, total_no_trips=5310020, average profitability=21.147393908739954, total_no_passenger=7915455.0, LocationID=237, Zone='Upper East Side South'),\n",
              "  Row(PULocationID=236, total_no_trips=4863323, average profitability=12.100854640836335, total_no_passenger=7253828.0, LocationID=236, Zone='Upper East Side North'),\n",
              "  Row(PULocationID=161, total_no_trips=4458485, average profitability=22.239805098570198, total_no_passenger=6810486.0, LocationID=161, Zone='Midtown Center'),\n",
              "  Row(PULocationID=186, total_no_trips=4041730, average profitability=13.32199320349856, total_no_passenger=6038775.0, LocationID=186, Zone='Penn Station/Madison Sq West'),\n",
              "  Row(PULocationID=162, total_no_trips=3935304, average profitability=16.47111367634523, total_no_passenger=5911055.0, LocationID=162, Zone='Midtown East'),\n",
              "  Row(PULocationID=142, total_no_trips=3523890, average profitability=20.08786025170914, total_no_passenger=5370025.0, LocationID=142, Zone='Lincoln Square East'),\n",
              "  Row(PULocationID=230, total_no_trips=3378649, average profitability=14.488093369348814, total_no_passenger=5346890.0, LocationID=230, Zone='Times Sq/Theatre District'),\n",
              "  Row(PULocationID=48, total_no_trips=3427370, average profitability=15.277356642135546, total_no_passenger=5269536.0, LocationID=48, Zone='Clinton East'),\n",
              "  Row(PULocationID=170, total_no_trips=3498715, average profitability=29.270692404637103, total_no_passenger=5232698.0, LocationID=170, Zone='Murray Hill'),\n",
              "  Row(PULocationID=234, total_no_trips=3388696, average profitability=19.480199428020395, total_no_passenger=5160322.0, LocationID=234, Zone='Union Sq')]]"
            ]
          },
          "execution_count": 201,
          "metadata": {}
        }
      ],
      "source": [
        "# run and record the resulting execution time shown by databricks (on the cell footer)\n",
        "\n",
        "# IMPORTANT: this function calls all task functions in order of occurrence. For this code to run without errors, you have to load into memory all of the previous task-specific functions, even if you haven't implemented these yet.\n",
        "pipeline(trips, with_task_12 = WITH_TASK_12)"
      ]
    },
    {
      "cell_type": "markdown",
      "metadata": {
        "application/vnd.databricks.v1+cell": {
          "cellMetadata": {},
          "inputWidgets": {},
          "nuid": "08018100-ac87-4801-94fc-c9fec3dc6a66",
          "showTitle": false,
          "title": ""
        },
        "id": "I9ArCQwObr1n"
      },
      "source": [
        "### I have run this notebook on CSC8641 cluster for computation.\n",
        "_Table 1. Pipeline performance for `parquet` format._\n",
        "\n",
        "| metric                      | S    | M    | L    | XL   | XXL  |\n",
        "|-----------------------------|------|------|------|------|------|\n",
        "| rows (M)                    |  2,898,033 |  15,571,166 |  41,953,716 |  90,443,069 |  132,396,785 |\n",
        "| execution time   (w/o 1.2) (seconds) | 1.55 sec | 5.36 sec | 7.46 sec | 15.18 sec | 17.88 sec |\n",
        "| execution time     (seconds)         | 3.39 sec | 8.53 sec | 20.75 sec | 41.88 sec | 49.77 sec |\n",
        "| sec / 1M records (w/o 1.2) (seconds) | 0.534 sec  | 0.344 sec  | 0.177 sec  | 0.167 sec  | 0.135 sec  |\n",
        "| sec / 1M records    (seconds)        | 1.169 sec  | 0.547 sec  | 0.494 sec  | 0.463 sec  | 0.375 sec  |"
      ]
    },
    {
      "cell_type": "markdown",
      "metadata": {
        "application/vnd.databricks.v1+cell": {
          "cellMetadata": {},
          "inputWidgets": {},
          "nuid": "e565c658-ba51-45cc-a617-227d6befb6dc",
          "showTitle": false,
          "title": ""
        },
        "id": "LRJ5o9R1br1r"
      },
      "source": [
        "_Table 2. Pipeline performance for `delta` format._\n",
        "\n",
        "| metric                      | S    | M    | L    | XL   | XXL  |\n",
        "|-----------------------------|------|------|------|------|------|\n",
        "| rows (M)                    |  2,898,033 |  15,571,166 |  41,953,716 |  90,443,069 |  132,396,785 |\n",
        "| execution time   (w/o 1.2) (seconds) | 1.48 sec | 3.04 sec | 3.24 sec | 3.87 sec | 4.31 sec |\n",
        "| execution time   (seconds)           | 3.13 sec | 4.29 sec | 6.30 sec | 9.09 sec | 12.66 sec |\n",
        "| sec / 1M records (w/o 1.2) (seconds) | 0.510 sec  | 0.195 sec  | 0.077 sec  | 0.042 sec  | 0.032 sec  |\n",
        "| sec / 1M records   (seconds)         | 1.080 sec  | 0.275 sec  | 0.150 sec  | 0.100 sec  | 0.095 sec  |\n",
        "\n",
        "\n",
        "### Observations\n",
        "\n",
        "In the tables above we have calculated the pipeline execution times for two types of dataset namely **\"parquet\"** and **\"delta\"**. Also there are 5 different dataset sizes which are small(**S**), mediun(**M**), large(**L**), extra large(**XL**) and double extra large(**XXL**) in increasing order.<br/>\n",
        "Beginning with the **parquet** dataset format, we can observe that pipeline execution time is increasing as we keep increasing the size of dataset. Comparison is also made between execution time when we include task 1.2 and exclude task 1.2. Execution time for all sizes of datasets increases when we include task 1.2, because of the task complexity of removing outliers where we need to calculate median, MAD and z-score values for two columns and apply filter. Execution time required for processing 1M records has a decreasing trend of time as we keep increasing dataset size.<br/>\n",
        "Moving on with **delta** dataset, it is seen that pipeline takes less execution time as compared with parquet dataset. Remaining trends are same as discussed for parquet dataset where,<br/> 1. Execution time increasing with increase in dataset size<br/> 2. Inclusion of task 1.2 requires more execution time<br/> 3. Decreasing trend for processing 1M records as we increase dataset size."
      ]
    }
  ],
  "metadata": {
    "application/vnd.databricks.v1+notebook": {
      "dashboards": [],
      "language": "python",
      "notebookMetadata": {
        "pythonIndentUnit": 4
      },
      "notebookName": "CSC8101-spark-coursework_230377738",
      "widgets": {}
    },
    "language_info": {
      "name": "plaintext"
    },
    "colab": {
      "provenance": []
    }
  },
  "nbformat": 4,
  "nbformat_minor": 0
}